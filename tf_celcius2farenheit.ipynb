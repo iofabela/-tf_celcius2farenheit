{
  "nbformat": 4,
  "nbformat_minor": 0,
  "metadata": {
    "colab": {
      "name": "tf_celcius2farenheit.ipynb",
      "provenance": [],
      "authorship_tag": "ABX9TyOcHJZ1gydZMoRhKEddElzF",
      "include_colab_link": true
    },
    "kernelspec": {
      "name": "python3",
      "display_name": "Python 3"
    },
    "language_info": {
      "name": "python"
    },
    "accelerator": "GPU"
  },
  "cells": [
    {
      "cell_type": "markdown",
      "metadata": {
        "id": "view-in-github",
        "colab_type": "text"
      },
      "source": [
        "<a href=\"https://colab.research.google.com/github/iofabela/-tf_celcius2farenheit/blob/main/tf_celcius2farenheit.ipynb\" target=\"_parent\"><img src=\"https://colab.research.google.com/assets/colab-badge.svg\" alt=\"Open In Colab\"/></a>"
      ]
    },
    {
      "cell_type": "markdown",
      "metadata": {
        "id": "IepP_z2jzCy3"
      },
      "source": [
        "# Red Neuronal \n",
        "### Una capa [Entrada & Salida]"
      ]
    },
    {
      "cell_type": "code",
      "metadata": {
        "id": "SZ0MEgd7QJ9p"
      },
      "source": [
        "import tensorflow as tf\n",
        "import numpy as np"
      ],
      "execution_count": null,
      "outputs": []
    },
    {
      "cell_type": "code",
      "metadata": {
        "id": "Re_ksiyJRp9p"
      },
      "source": [
        "celsius = np.array([-100, -40,-10, 0, 8, 15, 22, 38, 100], dtype=float)\n",
        "fahrenheit = np.array([-148, -40, 14, 32, 46.4, 59, 71.6, 100.4, 212], dtype=float)"
      ],
      "execution_count": null,
      "outputs": []
    },
    {
      "cell_type": "code",
      "metadata": {
        "id": "3fX6bxkMtLMC"
      },
      "source": [
        "capa = tf.keras.layers.Dense(units=1, input_shape=[1])\n",
        "modelo = tf.keras.Sequential([capa])"
      ],
      "execution_count": null,
      "outputs": []
    },
    {
      "cell_type": "code",
      "metadata": {
        "id": "tG2apXE5tvNU"
      },
      "source": [
        "modelo.compile(\n",
        "    optimizer=tf.keras.optimizers.Adam(0.1),\n",
        "    loss='mean_squared_error'\n",
        ")"
      ],
      "execution_count": null,
      "outputs": []
    },
    {
      "cell_type": "code",
      "metadata": {
        "colab": {
          "base_uri": "https://localhost:8080/"
        },
        "id": "tlJ_IN8duFnG",
        "outputId": "559b27ee-a4fe-4f18-b32d-94eca7cd86de"
      },
      "source": [
        "print(\"Training begins ...\")\n",
        "historial = modelo.fit(celsius,fahrenheit,epochs=1000,verbose=False)\n",
        "print(\"Trained model !\")"
      ],
      "execution_count": null,
      "outputs": [
        {
          "output_type": "stream",
          "text": [
            "Training begins ...\n",
            "Trained model !\n"
          ],
          "name": "stdout"
        }
      ]
    },
    {
      "cell_type": "code",
      "metadata": {
        "colab": {
          "base_uri": "https://localhost:8080/",
          "height": 296
        },
        "id": "eH8FsE0OvMVc",
        "outputId": "0bad680b-d599-4467-88dd-6319c82b4c1f"
      },
      "source": [
        "import matplotlib.pyplot as plt\n",
        "plt.xlabel(\"# Epoca\")\n",
        "plt.ylabel(\"# Magnitud de perdida\")\n",
        "plt.plot(historial.history[\"loss\"])"
      ],
      "execution_count": null,
      "outputs": [
        {
          "output_type": "execute_result",
          "data": {
            "text/plain": [
              "[<matplotlib.lines.Line2D at 0x7fef203cb750>]"
            ]
          },
          "metadata": {
            "tags": []
          },
          "execution_count": 30
        },
        {
          "output_type": "display_data",
          "data": {
            "image/png": "[encoded data removed]",
            "text/plain": [
              "<Figure size 432x288 with 1 Axes>"
            ]
          },
          "metadata": {
            "tags": [],
            "needs_background": "light"
          }
        }
      ]
    },
    {
      "cell_type": "code",
      "metadata": {
        "colab": {
          "base_uri": "https://localhost:8080/"
        },
        "id": "S5ekQewdvpv6",
        "outputId": "2724d737-6d1f-4c91-e307-24137d4ca09f"
      },
      "source": [
        "print(\"Hagamos una prediccion :o\")\n",
        "resultado = modelo.predict([150.0])\n",
        "print(\"El resultado es \" + str(resultado) + \" farenheit!\")"
      ],
      "execution_count": null,
      "outputs": [
        {
          "output_type": "stream",
          "text": [
            "Hagamos una prediccion :o\n",
            "El resultado es [[301.9828]] farenheit!\n"
          ],
          "name": "stdout"
        }
      ]
    },
    {
      "cell_type": "code",
      "metadata": {
        "colab": {
          "base_uri": "https://localhost:8080/"
        },
        "id": "EuYZsBoQxZqb",
        "outputId": "576f3432-1772-4a25-c9db-789094be6bb7"
      },
      "source": [
        "print(\"Variables internas del modelo\")\n",
        "print(capa.get_weights())"
      ],
      "execution_count": null,
      "outputs": [
        {
          "output_type": "stream",
          "text": [
            "Variables internas del modelo\n",
            "[array([[1.80003]], dtype=float32), array([31.978296], dtype=float32)]\n"
          ],
          "name": "stdout"
        }
      ]
    },
    {
      "cell_type": "markdown",
      "metadata": {
        "id": "2QRVRbGKzbE2"
      },
      "source": [
        "### Dos capas ocultas [Entrada, Capa oculta 1, Capa oculta 2, Salida]"
      ]
    },
    {
      "cell_type": "code",
      "metadata": {
        "id": "IDs2Cebl0P6i"
      },
      "source": [
        "import tensorflow as tf\n",
        "import numpy as np"
      ],
      "execution_count": null,
      "outputs": []
    },
    {
      "cell_type": "code",
      "metadata": {
        "id": "DApFrHNE0VS1"
      },
      "source": [
        "celsius = np.array([-100, -40,-10, 0, 8, 15, 22, 38, 100], dtype=float)\n",
        "fahrenheit = np.array([-148, -40, 14, 32, 46.4, 59, 71.6, 100.4, 212], dtype=float)"
      ],
      "execution_count": null,
      "outputs": []
    },
    {
      "cell_type": "code",
      "metadata": {
        "id": "gItJ_dY40YMu"
      },
      "source": [
        "oculta1 = tf.keras.layers.Dense(units=3, input_shape=[1])\n",
        "oculta2 = tf.keras.layers.Dense(units=3)\n",
        "salida = tf.keras.layers.Dense(units=1)\n",
        "modelo = tf.keras.Sequential([oculta1,oculta2,salida])"
      ],
      "execution_count": null,
      "outputs": []
    },
    {
      "cell_type": "code",
      "metadata": {
        "id": "ZwFt_nJ71E-4"
      },
      "source": [
        "modelo.compile(\n",
        "    optimizer=tf.keras.optimizers.Adam(0.1),\n",
        "    loss='mean_squared_error'\n",
        ")"
      ],
      "execution_count": null,
      "outputs": []
    },
    {
      "cell_type": "code",
      "metadata": {
        "colab": {
          "base_uri": "https://localhost:8080/"
        },
        "id": "0wmv22IT1JPK",
        "outputId": "34b5beea-6234-46ba-c39f-3b179d5e4e2d"
      },
      "source": [
        "print(\"Training begins ...\")\n",
        "historial = modelo.fit(celsius,fahrenheit,epochs=1000,verbose=False)\n",
        "print(\"Trained model !\")"
      ],
      "execution_count": null,
      "outputs": [
        {
          "output_type": "stream",
          "text": [
            "Training begins ...\n",
            "Trained model !\n"
          ],
          "name": "stdout"
        }
      ]
    },
    {
      "cell_type": "code",
      "metadata": {
        "colab": {
          "base_uri": "https://localhost:8080/",
          "height": 296
        },
        "id": "As1hegJc1NjQ",
        "outputId": "a5206221-c672-4f3a-b0e2-512982dc1d7f"
      },
      "source": [
        "import matplotlib.pyplot as plt\n",
        "plt.xlabel(\"# Epoca\")\n",
        "plt.ylabel(\"# Magnitud de perdida\")\n",
        "plt.plot(historial.history[\"loss\"])"
      ],
      "execution_count": null,
      "outputs": [
        {
          "output_type": "execute_result",
          "data": {
            "text/plain": [
              "[<matplotlib.lines.Line2D at 0x7feed64b4310>]"
            ]
          },
          "metadata": {
            "tags": []
          },
          "execution_count": 39
        },
        {
          "output_type": "display_data",
          "data": {
            "image/png": "[encoded data removed]",
            "text/plain": [
              "<Figure size 432x288 with 1 Axes>"
            ]
          },
          "metadata": {
            "tags": [],
            "needs_background": "light"
          }
        }
      ]
    },
    {
      "cell_type": "code",
      "metadata": {
        "colab": {
          "base_uri": "https://localhost:8080/"
        },
        "id": "_QN2z43o1QEi",
        "outputId": "1fd0d7e1-ef2b-47cb-885c-4cc8f108c391"
      },
      "source": [
        "print(\"Hagamos una prediccion :o\")\n",
        "resultado = modelo.predict([100.0])\n",
        "print(\"El resultado es \" + str(resultado) + \" farenheit!\")"
      ],
      "execution_count": null,
      "outputs": [
        {
          "output_type": "stream",
          "text": [
            "Hagamos una prediccion :o\n",
            "WARNING:tensorflow:5 out of the last 6 calls to <function Model.make_predict_function.<locals>.predict_function at 0x7feee8031c20> triggered tf.function retracing. Tracing is expensive and the excessive number of tracings could be due to (1) creating @tf.function repeatedly in a loop, (2) passing tensors with different shapes, (3) passing Python objects instead of tensors. For (1), please define your @tf.function outside of the loop. For (2), @tf.function has experimental_relax_shapes=True option that relaxes argument shapes that can avoid unnecessary retracing. For (3), please refer to https://www.tensorflow.org/guide/function#controlling_retracing and https://www.tensorflow.org/api_docs/python/tf/function for  more details.\n",
            "El resultado es [[212.]] farenheit!\n"
          ],
          "name": "stdout"
        }
      ]
    },
    {
      "cell_type": "code",
      "metadata": {
        "colab": {
          "base_uri": "https://localhost:8080/"
        },
        "id": "F3jXzQvR134o",
        "outputId": "a7d4400b-9519-49ba-96fa-9437fff978b5"
      },
      "source": [
        "print(\"Variables internas del modelo\")\n",
        "print(oculta1.get_weights())\n",
        "print(oculta2.get_weights())\n",
        "print(salida.get_weights())"
      ],
      "execution_count": null,
      "outputs": [
        {
          "output_type": "stream",
          "text": [
            "Variables internas del modelo\n",
            "[array([[-0.2907478 ,  0.351643  , -0.54930615]], dtype=float32), array([-4.2669506,  4.1574883, -4.2810607], dtype=float32)]\n",
            "[array([[ 0.8771701 , -0.6456981 , -0.12950619],\n",
            "       [-0.1828867 ,  0.597145  , -0.4352311 ],\n",
            "       [ 1.1516833 , -0.68155104,  0.0927841 ]], dtype=float32), array([-4.0892954,  4.08071  , -3.1150773], dtype=float32)]\n",
            "[array([[-1.0540469],\n",
            "       [ 0.9171463],\n",
            "       [-0.5316794]], dtype=float32), array([3.9881122], dtype=float32)]\n"
          ],
          "name": "stdout"
        }
      ]
    },
    {
      "cell_type": "markdown",
      "metadata": {
        "id": "U8oXlNqU2wmh"
      },
      "source": [
        "[Ringa Tech](https://youtu.be/iX_on3VxZzk) | Tu primera red neuronal en Python y Tensorflow"
      ]
    }
  ]
}